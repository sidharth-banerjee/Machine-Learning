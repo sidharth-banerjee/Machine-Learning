{
 "cells": [
  {
   "cell_type": "code",
   "execution_count": 1,
   "metadata": {},
   "outputs": [
    {
     "data": {
      "text/plain": [
       "'\\nName: Sidharth Banerjee\\nID  : 1001622703\\n'"
      ]
     },
     "execution_count": 1,
     "metadata": {},
     "output_type": "execute_result"
    }
   ],
   "source": [
    "'''\n",
    "Name: Sidharth Banerjee\n",
    "ID  : 1001622703\n",
    "'''"
   ]
  },
  {
   "cell_type": "code",
   "execution_count": 2,
   "metadata": {},
   "outputs": [],
   "source": [
    "import sys\n",
    "import random\n",
    "import numpy as np\n",
    "import pandas as pd"
   ]
  },
  {
   "cell_type": "code",
   "execution_count": 3,
   "metadata": {},
   "outputs": [],
   "source": [
    "env_file = 'environment2.txt'\n",
    "nt_reward = -0.04\n",
    "gamma = 1\n",
    "moves = 1\n",
    "Ne = 20"
   ]
  },
  {
   "cell_type": "code",
   "execution_count": 4,
   "metadata": {},
   "outputs": [],
   "source": [
    "class State:\n",
    "    def __init__(self, utility, accessible, reward, terminal, ind_i, ind_j):\n",
    "        self.utility = utility\n",
    "        self.accessible = accessible\n",
    "        self.reward = reward\n",
    "        self.terminal = terminal\n",
    "        self.ind_i = ind_i\n",
    "        self.ind_j = ind_j"
   ]
  },
  {
   "cell_type": "code",
   "execution_count": 5,
   "metadata": {},
   "outputs": [],
   "source": [
    "def returnTable(file):\n",
    "    df = pd.read_csv(file, header=None)\n",
    "    Table = []\n",
    "\n",
    "    temp0 = []\n",
    "    for j in range (0, len(df.columns)+2, 1):\n",
    "        temp0.append(State(0, False, 0, False, -1, -1))\n",
    "    Table.append(temp0)\n",
    "\n",
    "    for i in range (0, len(df), 1):\n",
    "        temp1 = []\n",
    "        temp1.append(State(0, False, 0, 0, -1, -1))\n",
    "        for j in range (0, len(df.columns), 1):\n",
    "            if df.iloc[i][j] == 'X':\n",
    "                temp1.append(State(0, False, 0, False, i, j))\n",
    "            elif df.iloc[i][j] == '.':\n",
    "                temp1.append(State(0, True, nt_reward, False, i, j))\n",
    "            else:\n",
    "                temp1.append(State(0, True, float(df.iloc[i][j]), True, i, j))\n",
    "\n",
    "        temp1.append(State(0, False, 0, False, -1, -1))\n",
    "        Table.append(temp1)\n",
    "\n",
    "    Table.append(temp0)\n",
    "    return Table"
   ]
  },
  {
   "cell_type": "code",
   "execution_count": 6,
   "metadata": {},
   "outputs": [],
   "source": [
    "def eta(value):\n",
    "    return 1/value"
   ]
  },
  {
   "cell_type": "code",
   "execution_count": 7,
   "metadata": {},
   "outputs": [],
   "source": [
    "def f(u, n):\n",
    "    if n < Ne:\n",
    "        return 1\n",
    "    else:\n",
    "        return u"
   ]
  },
  {
   "cell_type": "code",
   "execution_count": 8,
   "metadata": {},
   "outputs": [],
   "source": [
    " # weighted random number generator, with probabilities as weights\n",
    "def weighted_choice():   \n",
    "        weights = np.array([0.8, 0.1, 0.1])\n",
    "        totals = []\n",
    "        running_total = 0\n",
    "\n",
    "        for w in weights:\n",
    "            running_total += w\n",
    "            totals.append(running_total)\n",
    "\n",
    "        rnd = random.random() * running_total\n",
    "        for i, total in enumerate(totals):\n",
    "            if rnd < total:\n",
    "                return i"
   ]
  },
  {
   "cell_type": "code",
   "execution_count": 9,
   "metadata": {},
   "outputs": [],
   "source": [
    "def ExecuteAction(table, s_, a):\n",
    "    i = s_.ind_i\n",
    "    j = s_.ind_j\n",
    "    \n",
    "    def exe_up():\n",
    "        if table[i-1][j].accessible:\n",
    "            s_ = table[i-1][j]\n",
    "        else:\n",
    "            s_ = table[i][j]\n",
    "        return s_\n",
    "    \n",
    "    def exe_down():\n",
    "        if table[i+1][j].accessible:\n",
    "            s_ = table[i+1][j]\n",
    "        else:\n",
    "            s_ = table[i][j]\n",
    "        return s_\n",
    "    \n",
    "    def exe_left():\n",
    "        if table[i][j-1].accessible:\n",
    "            s_ = table[i][j-1]\n",
    "        else:\n",
    "            s_ = table[i][j]\n",
    "        return s_\n",
    "    \n",
    "    def exe_right():\n",
    "        if table[i][j+1].accessible:\n",
    "            s_ = table[i][j+1]\n",
    "        else:\n",
    "            s_ = table[i][j]\n",
    "        return s_\n",
    "    \n",
    "    if a == 0:\n",
    "        rand = weighted_choice()\n",
    "        if rand == 0:\n",
    "            s_ = exe_up()\n",
    "        elif rand == 1:\n",
    "            s_ = exe_left()\n",
    "        elif rand == 2:\n",
    "            s_ = exe_right()\n",
    "    \n",
    "    elif a == 1:\n",
    "        rand = weighted_choice()\n",
    "        if rand == 0:\n",
    "            s_ = exe_down()\n",
    "        elif rand == 1:\n",
    "            s_ = exe_left()\n",
    "        elif rand == 2:\n",
    "            s_ = exe_right()\n",
    "    \n",
    "    elif a == 2:\n",
    "        rand = weighted_choice()\n",
    "        if rand == 0:\n",
    "            s_ = exe_left()\n",
    "        elif rand == 1:\n",
    "            s_ = exe_up()\n",
    "        elif rand == 2:\n",
    "            s_ = exe_down()\n",
    "    \n",
    "    elif a == 1:\n",
    "        rand = weighted_choice()\n",
    "        if rand == 0:\n",
    "            s_ = exe_right()\n",
    "        elif rand == 1:\n",
    "            s_ = exe_up()\n",
    "        elif rand == 2:\n",
    "            s_ = exe_down()\n",
    "    \n",
    "    return s_"
   ]
  },
  {
   "cell_type": "code",
   "execution_count": 10,
   "metadata": {},
   "outputs": [],
   "source": [
    "def Q_Learning_Update(table, s, r, a, s_, r_, Q, N):\n",
    "    if s_.terminal:\n",
    "        Q[s_] = {}\n",
    "        Q[s_][None] = r_\n",
    "        \n",
    "    if s is not None:\n",
    "        if s in N and a in N[s]:\n",
    "            N[s][a] += 1\n",
    "        else: \n",
    "            N[s] = {}\n",
    "            N[s][a] = 1\n",
    "            Q[s] = {}\n",
    "            \n",
    "        c = eta(N[s][a])\n",
    "            \n",
    "        action_values = np.array(list(Q[s_].values()))\n",
    "        \n",
    "        Q[s][a] = (1-c)*Q[s][a] + c*(r + gamma*np.amax(action_values))\n",
    "    \n",
    "    return Q, N"
   ]
  },
  {
   "cell_type": "code",
   "execution_count": 11,
   "metadata": {},
   "outputs": [],
   "source": [
    "def AgentModel_Q_Learning():\n",
    "    table = returnTable(env_file)\n",
    "    num_of_states = len(table)*len(table[0])\n",
    "    Q = {}\n",
    "    N = {}\n",
    "    \n",
    "    for i in range (0, moves, 1):\n",
    "        s = None\n",
    "        r = None\n",
    "        a = None\n",
    "        \n",
    "        success = False\n",
    "        s_ = None\n",
    "        i_random = None\n",
    "        j_random = None\n",
    "        while not(success):\n",
    "            i_random = random.randint(0, len(table)-1)\n",
    "            j_random = random.randint(0, len(table[0])-1)\n",
    "            s_ = table[i_random][j_random]\n",
    "            if table[i_random][j_random].accessible and not(table[i_random][j_random].terminal):\n",
    "                success = True\n",
    "                \n",
    "        s_ = table[i_random][j_random]\n",
    "        \n",
    "        while(True):\n",
    "            r_ = s_.reward\n",
    "            \n",
    "            if s is None:\n",
    "                Q[s] = {}\n",
    "                Q[s][a] = 0\n",
    "                s = s_\n",
    "                r = r_\n",
    "                a = weighted_choice()\n",
    "                s_ = ExecuteAction(table, s_, a)\n",
    "                \n",
    "            else:\n",
    "                Q, N = Q_Learning_Update(table, s, r, a, s_, r_, Q, N)\n",
    "\n",
    "                if s_.terminal:\n",
    "                    break\n",
    "\n",
    "                u_values = np.array(list(Q[s_].values()))\n",
    "                table[s.ind_i][s.ind_j].utility = np.amax(u_values)\n",
    "\n",
    "\n",
    "                Q_actions = np.array(list(Q[s_].values()))\n",
    "                N_actions = np.array(list(N[s_].values()))\n",
    "\n",
    "                f_values = []\n",
    "\n",
    "                for j in range (0, 4, 1):\n",
    "                    f_values.append(f(Q_actions[i], N_actions[i]))\n",
    "\n",
    "                a = np.argmax(np.array(f_values))\n",
    "                    \n",
    "                s = s_\n",
    "                r = r_\n",
    "\n",
    "                s_ = ExecuteAction(table, s_, a)\n",
    "            \n",
    "    return table"
   ]
  },
  {
   "cell_type": "code",
   "execution_count": 12,
   "metadata": {},
   "outputs": [],
   "source": [
    "def printUtilties(U):\n",
    "    for i in range (1, len(U)-1, 1):\n",
    "        print('{:6.3f}'.format(U[i][1].utility), end = \"\")\n",
    "        for j in range (2, len(U[i])-1, 1):\n",
    "            print(',{:6.3f}'.format(U[i][j].utility), end = \"\")\n",
    "        print()"
   ]
  },
  {
   "cell_type": "code",
   "execution_count": 13,
   "metadata": {},
   "outputs": [
    {
     "ename": "KeyError",
     "evalue": "<__main__.State object at 0x0000017CDC4126C8>",
     "output_type": "error",
     "traceback": [
      "\u001b[1;31m---------------------------------------------------------------------------\u001b[0m",
      "\u001b[1;31mKeyError\u001b[0m                                  Traceback (most recent call last)",
      "\u001b[1;32m<ipython-input-13-97edb5114299>\u001b[0m in \u001b[0;36m<module>\u001b[1;34m\u001b[0m\n\u001b[1;32m----> 1\u001b[1;33m \u001b[0mU\u001b[0m \u001b[1;33m=\u001b[0m \u001b[0mAgentModel_Q_Learning\u001b[0m\u001b[1;33m(\u001b[0m\u001b[1;33m)\u001b[0m\u001b[1;33m\u001b[0m\u001b[1;33m\u001b[0m\u001b[0m\n\u001b[0m\u001b[0;32m      2\u001b[0m \u001b[0mprintUtilties\u001b[0m\u001b[1;33m(\u001b[0m\u001b[0mU\u001b[0m\u001b[1;33m)\u001b[0m\u001b[1;33m\u001b[0m\u001b[1;33m\u001b[0m\u001b[0m\n",
      "\u001b[1;32m<ipython-input-11-eeb7aa352436>\u001b[0m in \u001b[0;36mAgentModel_Q_Learning\u001b[1;34m()\u001b[0m\n\u001b[0;32m     35\u001b[0m \u001b[1;33m\u001b[0m\u001b[0m\n\u001b[0;32m     36\u001b[0m             \u001b[1;32melse\u001b[0m\u001b[1;33m:\u001b[0m\u001b[1;33m\u001b[0m\u001b[1;33m\u001b[0m\u001b[0m\n\u001b[1;32m---> 37\u001b[1;33m                 \u001b[0mQ\u001b[0m\u001b[1;33m,\u001b[0m \u001b[0mN\u001b[0m \u001b[1;33m=\u001b[0m \u001b[0mQ_Learning_Update\u001b[0m\u001b[1;33m(\u001b[0m\u001b[0mtable\u001b[0m\u001b[1;33m,\u001b[0m \u001b[0ms\u001b[0m\u001b[1;33m,\u001b[0m \u001b[0mr\u001b[0m\u001b[1;33m,\u001b[0m \u001b[0ma\u001b[0m\u001b[1;33m,\u001b[0m \u001b[0ms_\u001b[0m\u001b[1;33m,\u001b[0m \u001b[0mr_\u001b[0m\u001b[1;33m,\u001b[0m \u001b[0mQ\u001b[0m\u001b[1;33m,\u001b[0m \u001b[0mN\u001b[0m\u001b[1;33m)\u001b[0m\u001b[1;33m\u001b[0m\u001b[1;33m\u001b[0m\u001b[0m\n\u001b[0m\u001b[0;32m     38\u001b[0m \u001b[1;33m\u001b[0m\u001b[0m\n\u001b[0;32m     39\u001b[0m                 \u001b[1;32mif\u001b[0m \u001b[0ms_\u001b[0m\u001b[1;33m.\u001b[0m\u001b[0mterminal\u001b[0m\u001b[1;33m:\u001b[0m\u001b[1;33m\u001b[0m\u001b[1;33m\u001b[0m\u001b[0m\n",
      "\u001b[1;32m<ipython-input-10-65a63da549dc>\u001b[0m in \u001b[0;36mQ_Learning_Update\u001b[1;34m(table, s, r, a, s_, r_, Q, N)\u001b[0m\n\u001b[0;32m     14\u001b[0m         \u001b[0mc\u001b[0m \u001b[1;33m=\u001b[0m \u001b[0meta\u001b[0m\u001b[1;33m(\u001b[0m\u001b[0mN\u001b[0m\u001b[1;33m[\u001b[0m\u001b[0ms\u001b[0m\u001b[1;33m]\u001b[0m\u001b[1;33m[\u001b[0m\u001b[0ma\u001b[0m\u001b[1;33m]\u001b[0m\u001b[1;33m)\u001b[0m\u001b[1;33m\u001b[0m\u001b[1;33m\u001b[0m\u001b[0m\n\u001b[0;32m     15\u001b[0m \u001b[1;33m\u001b[0m\u001b[0m\n\u001b[1;32m---> 16\u001b[1;33m         \u001b[0maction_values\u001b[0m \u001b[1;33m=\u001b[0m \u001b[0mnp\u001b[0m\u001b[1;33m.\u001b[0m\u001b[0marray\u001b[0m\u001b[1;33m(\u001b[0m\u001b[0mlist\u001b[0m\u001b[1;33m(\u001b[0m\u001b[0mQ\u001b[0m\u001b[1;33m[\u001b[0m\u001b[0ms_\u001b[0m\u001b[1;33m]\u001b[0m\u001b[1;33m.\u001b[0m\u001b[0mvalues\u001b[0m\u001b[1;33m(\u001b[0m\u001b[1;33m)\u001b[0m\u001b[1;33m)\u001b[0m\u001b[1;33m)\u001b[0m\u001b[1;33m\u001b[0m\u001b[1;33m\u001b[0m\u001b[0m\n\u001b[0m\u001b[0;32m     17\u001b[0m \u001b[1;33m\u001b[0m\u001b[0m\n\u001b[0;32m     18\u001b[0m         \u001b[0mQ\u001b[0m\u001b[1;33m[\u001b[0m\u001b[0ms\u001b[0m\u001b[1;33m]\u001b[0m\u001b[1;33m[\u001b[0m\u001b[0ma\u001b[0m\u001b[1;33m]\u001b[0m \u001b[1;33m=\u001b[0m \u001b[1;33m(\u001b[0m\u001b[1;36m1\u001b[0m\u001b[1;33m-\u001b[0m\u001b[0mc\u001b[0m\u001b[1;33m)\u001b[0m\u001b[1;33m*\u001b[0m\u001b[0mQ\u001b[0m\u001b[1;33m[\u001b[0m\u001b[0ms\u001b[0m\u001b[1;33m]\u001b[0m\u001b[1;33m[\u001b[0m\u001b[0ma\u001b[0m\u001b[1;33m]\u001b[0m \u001b[1;33m+\u001b[0m \u001b[0mc\u001b[0m\u001b[1;33m*\u001b[0m\u001b[1;33m(\u001b[0m\u001b[0mr\u001b[0m \u001b[1;33m+\u001b[0m \u001b[0mgamma\u001b[0m\u001b[1;33m*\u001b[0m\u001b[0mnp\u001b[0m\u001b[1;33m.\u001b[0m\u001b[0mamax\u001b[0m\u001b[1;33m(\u001b[0m\u001b[0maction_values\u001b[0m\u001b[1;33m)\u001b[0m\u001b[1;33m)\u001b[0m\u001b[1;33m\u001b[0m\u001b[1;33m\u001b[0m\u001b[0m\n",
      "\u001b[1;31mKeyError\u001b[0m: <__main__.State object at 0x0000017CDC4126C8>"
     ]
    }
   ],
   "source": [
    "U = AgentModel_Q_Learning()\n",
    "printUtilties(U)"
   ]
  },
  {
   "cell_type": "code",
   "execution_count": null,
   "metadata": {},
   "outputs": [],
   "source": []
  }
 ],
 "metadata": {
  "kernelspec": {
   "display_name": "Python 3",
   "language": "python",
   "name": "python3"
  },
  "language_info": {
   "codemirror_mode": {
    "name": "ipython",
    "version": 3
   },
   "file_extension": ".py",
   "mimetype": "text/x-python",
   "name": "python",
   "nbconvert_exporter": "python",
   "pygments_lexer": "ipython3",
   "version": "3.7.5"
  }
 },
 "nbformat": 4,
 "nbformat_minor": 2
}
