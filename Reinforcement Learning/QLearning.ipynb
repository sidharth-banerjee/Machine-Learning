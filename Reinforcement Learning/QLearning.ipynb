{
 "cells": [
  {
   "cell_type": "code",
   "execution_count": 223,
   "metadata": {},
   "outputs": [
    {
     "data": {
      "text/plain": [
       "'\\nName: Sidharth Banerjee\\nID  : 1001622703\\n'"
      ]
     },
     "execution_count": 223,
     "metadata": {},
     "output_type": "execute_result"
    }
   ],
   "source": [
    "'''\n",
    "Name: Sidharth Banerjee\n",
    "ID  : 1001622703\n",
    "'''"
   ]
  },
  {
   "cell_type": "code",
   "execution_count": 237,
   "metadata": {},
   "outputs": [],
   "source": [
    "import sys\n",
    "import random\n",
    "import numpy as np\n",
    "import pandas as pd"
   ]
  },
  {
   "cell_type": "code",
   "execution_count": 238,
   "metadata": {},
   "outputs": [],
   "source": [
    "env_file = 'environment2.txt'\n",
    "nt_reward = -0.04\n",
    "gamma = 1\n",
    "moves = 1000\n",
    "Ne = 20"
   ]
  },
  {
   "cell_type": "code",
   "execution_count": 239,
   "metadata": {},
   "outputs": [],
   "source": [
    "class State:\n",
    "    def __init__(self, utility, accessible, reward, terminal):\n",
    "        self.utility = utility\n",
    "        self.accessible = accessible\n",
    "        self.reward = reward\n",
    "        self.terminal = terminal"
   ]
  },
  {
   "cell_type": "code",
   "execution_count": 240,
   "metadata": {},
   "outputs": [],
   "source": [
    "def returnTable(file):\n",
    "    df = pd.read_csv(file, header=None)\n",
    "    Table = []\n",
    "\n",
    "    temp0 = []\n",
    "    for j in range (0, len(df.columns)+2, 1):\n",
    "        temp0.append(State(0, False, 0, False))\n",
    "    Table.append(temp0)\n",
    "\n",
    "    for i in range (0, len(df), 1):\n",
    "        temp1 = []\n",
    "        temp1.append(State(0, False, 0, 0))\n",
    "        for j in range (0, len(df.columns), 1):\n",
    "            if df.iloc[i][j] == 'X':\n",
    "                temp1.append(State(0, False, 0, False))\n",
    "            elif df.iloc[i][j] == '.':\n",
    "                temp1.append(State(0, True, nt_reward, False))\n",
    "            else:\n",
    "                temp1.append(State(0, True, float(df.iloc[i][j]), True))\n",
    "\n",
    "        temp1.append(State(0, False, 0, False))\n",
    "        Table.append(temp1)\n",
    "\n",
    "    Table.append(temp0)\n",
    "    return Table"
   ]
  },
  {
   "cell_type": "code",
   "execution_count": 241,
   "metadata": {},
   "outputs": [],
   "source": [
    "def eta(value):\n",
    "    return 1/value"
   ]
  },
  {
   "cell_type": "code",
   "execution_count": 242,
   "metadata": {},
   "outputs": [],
   "source": [
    "def f(u, n):\n",
    "    if n < Ne:\n",
    "        return 1\n",
    "    else:\n",
    "        return u"
   ]
  },
  {
   "cell_type": "code",
   "execution_count": 243,
   "metadata": {},
   "outputs": [],
   "source": [
    " # weighted random number generator, with probabilities as weights\n",
    "def weighted_choice():   \n",
    "        weights = np.array([0.8, 0.1, 0.1])\n",
    "        totals = []\n",
    "        running_total = 0\n",
    "\n",
    "        for w in weights:\n",
    "            running_total += w\n",
    "            totals.append(running_total)\n",
    "\n",
    "        rnd = random.random() * running_total\n",
    "        for i, total in enumerate(totals):\n",
    "            if rnd < total:\n",
    "                return i"
   ]
  },
  {
   "cell_type": "code",
   "execution_count": 244,
   "metadata": {},
   "outputs": [],
   "source": [
    "def ExecuteAction(table, s_, a, i, j):\n",
    "    \n",
    "    def exe_up(i, j):\n",
    "        if table[i-1][j].accessible:\n",
    "            s_ = table[i-1][j]\n",
    "            i = i-1\n",
    "        else:\n",
    "            s_ = table[i][j]\n",
    "        return s_, i, j\n",
    "    \n",
    "    def exe_down(i, j):\n",
    "        if table[i+1][j].accessible:\n",
    "            s_ = table[i+1][j]\n",
    "            i = i +1\n",
    "        else:\n",
    "            s_ = table[i][j]\n",
    "        return s_, i, j\n",
    "    \n",
    "    def exe_left(i, j):\n",
    "        if table[i][j-1].accessible:\n",
    "            s_ = table[i][j-1]\n",
    "            j = j -1\n",
    "        else:\n",
    "            s_ = table[i][j]\n",
    "        return s_, i, j\n",
    "    \n",
    "    def exe_right(i, j):\n",
    "        if table[i][j+1].accessible:\n",
    "            s_ = table[i][j+1]\n",
    "            j = j+1\n",
    "        else:\n",
    "            s_ = table[i][j]\n",
    "        return s_, i, j\n",
    "    \n",
    "    if a == 0:\n",
    "        rand = weighted_choice()\n",
    "        if rand == 0:\n",
    "            s_, i, j = exe_up(i, j)\n",
    "        elif rand == 1:\n",
    "            s_, i, j = exe_left(i, j)\n",
    "        elif rand == 2:\n",
    "            s_, i, j = exe_right(i, j)\n",
    "    \n",
    "    elif a == 1:\n",
    "        rand = weighted_choice()\n",
    "        if rand == 0:\n",
    "            s_, i, j = exe_down(i, j)\n",
    "        elif rand == 1:\n",
    "            s_, i, j = exe_left(i, j)\n",
    "        elif rand == 2:\n",
    "            s_, i, j = exe_right(i, j)\n",
    "    \n",
    "    elif a == 2:\n",
    "        rand = weighted_choice()\n",
    "        if rand == 0:\n",
    "            s_, i, j_ = exe_left(i, j)\n",
    "        elif rand == 1:\n",
    "            s_, i, j = exe_up(i, j)\n",
    "        elif rand == 2:\n",
    "            s_, i, j = exe_down(i, j)\n",
    "    \n",
    "    elif a == 1:\n",
    "        rand = weighted_choice()\n",
    "        if rand == 0:\n",
    "            s_, i, j = exe_right(i, j)\n",
    "        elif rand == 1:\n",
    "            s_, i, j = exe_up(i, j)\n",
    "        elif rand == 2:\n",
    "            s_, i, j = exe_down(i, j)\n",
    "    \n",
    "    return s_, i, j"
   ]
  },
  {
   "cell_type": "code",
   "execution_count": 245,
   "metadata": {},
   "outputs": [],
   "source": [
    "def Q_Learning_Update(table, s, r, a, s_, r_, Q, N):\n",
    "    if s_.terminal:\n",
    "        Q[s_] = {}\n",
    "        Q[s_][None] = r_\n",
    "        \n",
    "    if s is not None:\n",
    "        if s in N and a in N[s]:\n",
    "            N[s][a] += 1\n",
    "        else: \n",
    "            N[s] = {}\n",
    "            N[s][a] = 1\n",
    "            Q[s] = {}\n",
    "            \n",
    "        c = eta(N[s][a])\n",
    "        \n",
    "        N[s_] = {}\n",
    "        N[s_][0] = 0\n",
    "        N[s_][1] = 0\n",
    "        N[s_][2] = 0\n",
    "        N[s_][3] = 0\n",
    "        \n",
    "        if s_ in Q:\n",
    "            action_values = np.array(list(Q[s_].values()))\n",
    "            if action_values is None or a is None or r is None:\n",
    "                Q[s][a] = 0\n",
    "            \n",
    "            else:\n",
    "                Q[s][a] = (1-c)*Q[s][a] + c*(r + gamma*np.amax(action_values))\n",
    "        \n",
    "        else:\n",
    "            Q[s_] = {}\n",
    "            Q[s_][0] = 0\n",
    "            Q[s_][1] = 0\n",
    "            Q[s_][2] = 0\n",
    "            Q[s_][3] = 0\n",
    "            Q[s][a] = 0\n",
    "    \n",
    "    elif s is None:\n",
    "        Q[s] = {}\n",
    "        Q[s][0] = 0\n",
    "        Q[s][1] = 0\n",
    "        Q[s][2] = 0\n",
    "        Q[s][3] = 0\n",
    "        Q[s_] = {}\n",
    "        Q[s_][0] = 0\n",
    "        Q[s_][1] = 0\n",
    "        Q[s_][2] = 0\n",
    "        Q[s_][3] = 0\n",
    "        N[s_] = {}\n",
    "        N[s_][0] = 0\n",
    "        N[s_][1] = 0\n",
    "        N[s_][2] = 0\n",
    "        N[s_][3] = 0\n",
    "        \n",
    "    return Q, N"
   ]
  },
  {
   "cell_type": "code",
   "execution_count": 246,
   "metadata": {},
   "outputs": [],
   "source": [
    "def AgentModel_Q_Learning():\n",
    "    table = returnTable(env_file)\n",
    "    num_of_states = len(table)*len(table[0])\n",
    "    Q = {}\n",
    "    N = {}\n",
    "    \n",
    "    for i in range (0, moves, 1):\n",
    "        s = None\n",
    "        r = None\n",
    "        a = None\n",
    "        \n",
    "        success = False\n",
    "        s_ = None\n",
    "        i_prev = None\n",
    "        j_prev = None\n",
    "        i_next = None\n",
    "        j_next = None\n",
    "        while not(success):\n",
    "            i_next = random.randint(0, len(table)-1)\n",
    "            j_next = random.randint(0, len(table[0])-1)\n",
    "            s_ = table[i_next][j_next]\n",
    "            if table[i_next][j_next].accessible and not(table[i_next][j_next].terminal):\n",
    "                success = True\n",
    "                \n",
    "        s_ = table[i_next][j_next]\n",
    "        \n",
    "        while(True):\n",
    "            r_ = s_.reward\n",
    "\n",
    "            Q, N = Q_Learning_Update(table, s, r, a, s_, r_, Q, N)\n",
    "\n",
    "            if s_.terminal:\n",
    "                break\n",
    "            \n",
    "            u_values = np.array(list(Q[s].values()))\n",
    "            \n",
    "            if s is not None:\n",
    "                table[i_prev][j_prev].utility = np.amax(u_values)\n",
    "\n",
    "            Q_actions = np.array(list(Q[s_].values()))\n",
    "            N_actions = np.array(list(N[s_].values()))\n",
    "\n",
    "            f_values = []\n",
    "\n",
    "            for j in range (0, 4, 1):\n",
    "                f_values.append(f(Q_actions[j], N_actions[j]))\n",
    "\n",
    "            a = np.argmax(np.array(f_values))\n",
    "\n",
    "            s = s_\n",
    "            i_prev = i_next\n",
    "            j_prev = j_next\n",
    "            \n",
    "            s_, i_next, j_next = ExecuteAction(table, s_, a, i_next, j_next)\n",
    "            \n",
    "    return table"
   ]
  },
  {
   "cell_type": "code",
   "execution_count": 247,
   "metadata": {},
   "outputs": [],
   "source": [
    "def printUtilties(U):\n",
    "    for i in range (1, len(U)-1, 1):\n",
    "        print('{:6.3f}'.format(U[i][1].accessible), end = \"\")\n",
    "        for j in range (2, len(U[i])-1, 1):\n",
    "            print(',{:6.3f}'.format(U[i][j].accessible), end = \"\")\n",
    "        print()"
   ]
  },
  {
   "cell_type": "code",
   "execution_count": 248,
   "metadata": {},
   "outputs": [],
   "source": [
    "U = AgentModel_Q_Learning()"
   ]
  },
  {
   "cell_type": "code",
   "execution_count": 249,
   "metadata": {},
   "outputs": [
    {
     "name": "stdout",
     "output_type": "stream",
     "text": [
      " 1.000, 1.000, 1.000, 1.000\n",
      " 1.000, 0.000, 1.000, 1.000\n",
      " 1.000, 1.000, 1.000, 1.000\n"
     ]
    }
   ],
   "source": [
    "printUtilties(U)"
   ]
  },
  {
   "cell_type": "code",
   "execution_count": null,
   "metadata": {},
   "outputs": [],
   "source": []
  },
  {
   "cell_type": "code",
   "execution_count": null,
   "metadata": {},
   "outputs": [],
   "source": []
  }
 ],
 "metadata": {
  "kernelspec": {
   "display_name": "Python 3",
   "language": "python",
   "name": "python3"
  },
  "language_info": {
   "codemirror_mode": {
    "name": "ipython",
    "version": 3
   },
   "file_extension": ".py",
   "mimetype": "text/x-python",
   "name": "python",
   "nbconvert_exporter": "python",
   "pygments_lexer": "ipython3",
   "version": "3.7.5"
  }
 },
 "nbformat": 4,
 "nbformat_minor": 2
}
