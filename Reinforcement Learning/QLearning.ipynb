{
 "cells": [
  {
   "cell_type": "code",
   "execution_count": 1,
   "metadata": {},
   "outputs": [
    {
     "data": {
      "text/plain": [
       "'\\nName: Sidharth Banerjee\\nID  : 1001622703\\n'"
      ]
     },
     "execution_count": 1,
     "metadata": {},
     "output_type": "execute_result"
    }
   ],
   "source": [
    "'''\n",
    "Name: Sidharth Banerjee\n",
    "ID  : 1001622703\n",
    "'''"
   ]
  },
  {
   "cell_type": "code",
   "execution_count": 8,
   "metadata": {},
   "outputs": [],
   "source": [
    "import sys\n",
    "import random\n",
    "import numpy as np\n",
    "import pandas as pd"
   ]
  },
  {
   "cell_type": "code",
   "execution_count": 9,
   "metadata": {},
   "outputs": [],
   "source": [
    "env_file = 'environment2.txt'\n",
    "nt_reward = -0.04\n",
    "gamma = 1\n",
    "moves = 1\n",
    "Ne = 20"
   ]
  },
  {
   "cell_type": "code",
   "execution_count": 10,
   "metadata": {},
   "outputs": [],
   "source": [
    "class State:\n",
    "    def __init__(self, utility, accessible, reward, terminal, ind_i, ind_j):\n",
    "        self.utility = utility\n",
    "        self.accessible = accessible\n",
    "        self.reward = reward\n",
    "        self.terminal = terminal\n",
    "        self.ind_i = ind_i\n",
    "        self.ind_j = ind_j"
   ]
  },
  {
   "cell_type": "code",
   "execution_count": 11,
   "metadata": {},
   "outputs": [],
   "source": [
    "def returnTable(file):\n",
    "    df = pd.read_csv(file, header=None)\n",
    "    Table = []\n",
    "\n",
    "    temp0 = []\n",
    "    for j in range (0, len(df.columns)+2, 1):\n",
    "        temp0.append(State(0, False, 0, False))\n",
    "    Table.append(temp0)\n",
    "\n",
    "    for i in range (0, len(df), 1):\n",
    "        temp1 = []\n",
    "        temp1.append(State(0, False, 0, 0, -1, -1))\n",
    "        for j in range (0, len(df.columns), 1):\n",
    "            if df.iloc[i][j] == 'X':\n",
    "                temp1.append(State(0, False, 0, False, i, j))\n",
    "            elif df.iloc[i][j] == '.':\n",
    "                temp1.append(State(0, True, nt_reward, False, i, j))\n",
    "            else:\n",
    "                temp1.append(State(0, True, float(df.iloc[i][j]), True, i, j))\n",
    "\n",
    "        temp1.append(State(0, False, 0, False))\n",
    "        Table.append(temp1)\n",
    "\n",
    "    Table.append(temp0)\n",
    "    return Table"
   ]
  },
  {
   "cell_type": "code",
   "execution_count": null,
   "metadata": {},
   "outputs": [],
   "source": [
    "def eta(value):\n",
    "    return 1/value"
   ]
  },
  {
   "cell_type": "code",
   "execution_count": null,
   "metadata": {},
   "outputs": [],
   "source": [
    "def f(u, n):\n",
    "    if n < Ne:\n",
    "        return 1\n",
    "    else:\n",
    "        return u"
   ]
  },
  {
   "cell_type": "code",
   "execution_count": 62,
   "metadata": {},
   "outputs": [],
   "source": [
    "def Q_Learning_Update(s, r, a, s_, r_, Q, N):\n",
    "    if s_.terminal:\n",
    "        Q[s_] = {}\n",
    "        Q[s_][None] = r_\n",
    "    \n",
    "    if s is not None:\n",
    "        if s in N.keys and a in N[s]:\n",
    "            N[s][a] += 1\n",
    "        else: \n",
    "            N[s] = {}\n",
    "            N[s][a] = 1\n",
    "            c = eta(N[s][a])\n",
    "            \n",
    "            action_values = np.array(list(Q[s_].values()))\n",
    "            \n",
    "            Q[s][a] = (1-c)*Q[s][a] + c*(r + gamma*np.amax(action_values))\n",
    "    \n",
    "    return Q, N"
   ]
  },
  {
   "cell_type": "code",
   "execution_count": 12,
   "metadata": {},
   "outputs": [],
   "source": [
    "def AgentModel_Q_Learning():\n",
    "    table = returnTable(env_file)\n",
    "    num_of_states = len(table)*len(table[0])\n",
    "    Q = {}\n",
    "    N = {}\n",
    "    \n",
    "    for i in range (0, moves, 1):\n",
    "        s = None\n",
    "        r = None\n",
    "        a = None\n",
    "        \n",
    "        success = False\n",
    "        s_ = None\n",
    "        while not(sucess):\n",
    "            i_random = random.randint(0, len(table))\n",
    "            j_random = random.randint(0, len(table[0]))\n",
    "            s_ = table[i_random][j_random]\n",
    "            if table[i][j].accessible and not(table[i][j].terminal):\n",
    "                success = True\n",
    "                \n",
    "        s_ = table[i][j]\n",
    "        \n",
    "        while(True):\n",
    "            r_ = s_.reward\n",
    "            s_.utility = s_.reward\n",
    "            \n",
    "            Q, N = Q_Learning_Update(s, r, a, s_, r_, Q, N)\n",
    "            \n",
    "            u_values = np.array(list(Q[s].values()))\n",
    "            table[s.ind_i][s.ind_j].utility = np.amax(u_values)\n",
    "            \n",
    "            if s_.terminal:\n",
    "                break\n",
    "            \n",
    "            Q_actions = np.array(list(Q[s_].values()))\n",
    "            N_actions = np.array(list(N[s_].values()))\n",
    "            \n",
    "            f_values = []\n",
    "            \n",
    "            for j in range (0, 4, 1):\n",
    "                f_values.append(f(Q_actions[i], N_actions[i]))\n",
    "            \n",
    "            a = np.argmax(np.array(f_values))\n",
    "                    \n",
    "            s_ = ExecuteAction(a)\n",
    "            \n",
    "    return table"
   ]
  },
  {
   "cell_type": "code",
   "execution_count": null,
   "metadata": {},
   "outputs": [],
   "source": [
    "def printUtilties(U):\n",
    "    for i in range (1, len(U)-1, 1):\n",
    "        print('{:6.3f}'.format(U[i][1].utility), end = \"\")\n",
    "        for j in range (2, len(U[i])-1, 1):\n",
    "            print(',{:6.3f}'.format(U[i][j].utility), end = \"\")\n",
    "        print()"
   ]
  },
  {
   "cell_type": "code",
   "execution_count": 17,
   "metadata": {},
   "outputs": [
    {
     "name": "stdout",
     "output_type": "stream",
     "text": [
      "1\n"
     ]
    }
   ],
   "source": [
    "U = AgentModel_Q_Learning\n",
    "printUtilties(U)"
   ]
  },
  {
   "cell_type": "code",
   "execution_count": 33,
   "metadata": {},
   "outputs": [],
   "source": [
    "Q = {}\n",
    "Q['A'] = {}\n",
    "Q['A']['B'] = 2\n",
    "Q['A']['C'] = 3\n",
    "Q['A']['D'] = 4\n",
    "Q['A']['F'] = 5"
   ]
  },
  {
   "cell_type": "code",
   "execution_count": 59,
   "metadata": {},
   "outputs": [],
   "source": [
    "li = Q['A'].values()\n",
    "li = np.array(list(li))"
   ]
  },
  {
   "cell_type": "code",
   "execution_count": 61,
   "metadata": {},
   "outputs": [
    {
     "data": {
      "text/plain": [
       "5"
      ]
     },
     "execution_count": 61,
     "metadata": {},
     "output_type": "execute_result"
    }
   ],
   "source": [
    "np.amax(li)"
   ]
  },
  {
   "cell_type": "code",
   "execution_count": 68,
   "metadata": {},
   "outputs": [],
   "source": []
  },
  {
   "cell_type": "code",
   "execution_count": 69,
   "metadata": {},
   "outputs": [
    {
     "name": "stdout",
     "output_type": "stream",
     "text": [
      "6\n"
     ]
    }
   ],
   "source": []
  },
  {
   "cell_type": "code",
   "execution_count": null,
   "metadata": {},
   "outputs": [],
   "source": []
  }
 ],
 "metadata": {
  "kernelspec": {
   "display_name": "Python 3",
   "language": "python",
   "name": "python3"
  },
  "language_info": {
   "codemirror_mode": {
    "name": "ipython",
    "version": 3
   },
   "file_extension": ".py",
   "mimetype": "text/x-python",
   "name": "python",
   "nbconvert_exporter": "python",
   "pygments_lexer": "ipython3",
   "version": "3.7.5"
  }
 },
 "nbformat": 4,
 "nbformat_minor": 2
}
