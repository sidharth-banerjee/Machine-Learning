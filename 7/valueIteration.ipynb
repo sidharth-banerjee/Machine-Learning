{
 "cells": [
  {
   "cell_type": "code",
   "execution_count": 36,
   "metadata": {},
   "outputs": [
    {
     "data": {
      "text/plain": [
       "'\\nName: Sidharth Banerjee\\nID  : 1001622703\\n'"
      ]
     },
     "execution_count": 36,
     "metadata": {},
     "output_type": "execute_result"
    }
   ],
   "source": [
    "'''\n",
    "Name: Sidharth Banerjee\n",
    "ID  : 1001622703\n",
    "'''"
   ]
  },
  {
   "cell_type": "code",
   "execution_count": 37,
   "metadata": {},
   "outputs": [],
   "source": [
    "import sys\n",
    "import copy\n",
    "import numpy as np\n",
    "import pandas as pd"
   ]
  },
  {
   "cell_type": "code",
   "execution_count": 38,
   "metadata": {},
   "outputs": [],
   "source": [
    "# command line arguments\n",
    "env_file = 'environment2.txt'\n",
    "nt_reward = -0.04\n",
    "gamma = 0.9\n",
    "K = 20"
   ]
  },
  {
   "cell_type": "code",
   "execution_count": 39,
   "metadata": {},
   "outputs": [],
   "source": [
    "class State:\n",
    "    def __init__(self, utility, accessible, reward, terminal, i, j):\n",
    "        self.utility = utility\n",
    "        self.accessible = accessible\n",
    "        self.reward = reward\n",
    "        self.terminal = terminal\n",
    "        self.postition = (i, j)"
   ]
  },
  {
   "cell_type": "code",
   "execution_count": 49,
   "metadata": {},
   "outputs": [],
   "source": [
    "def returnUtility(file):\n",
    "    df = pd.read_csv(file, header=None)\n",
    "    Utility_Table = []\n",
    "    for i in range (0, len(df), 1):\n",
    "        temp = []\n",
    "        for j in range (0, len(df.columns), 1):\n",
    "            if df.iloc[i][j] == 'X':\n",
    "                temp.append(State(0, False, 0, 0, i, j))\n",
    "            elif df.iloc[i][j] == '.':\n",
    "                temp.append(State(0, True, nt_reward, False, i, j))\n",
    "            else:\n",
    "                temp.append(State(float(df.iloc[i][j]), True, \n",
    "                                  float(df.iloc[i][j]), True, i, j))\n",
    "        Utility_Table.append(temp)\n",
    "    return Utility_Table"
   ]
  },
  {
   "cell_type": "code",
   "execution_count": null,
   "metadata": {},
   "outputs": [],
   "source": [
    "def findMax(S):\n",
    "    "
   ]
  },
  {
   "cell_type": "code",
   "execution_count": 50,
   "metadata": {},
   "outputs": [],
   "source": [
    "def ValueIteration(S):\n",
    "    U_ = returnUtility(env_file)\n",
    "    \n",
    "    for i in range (0, 1, 1):     # from i to K\n",
    "        U = copy.deepcopy(U_)\n",
    "        for i in range (0, len(U_), 1):\n",
    "            for j in range (0, len(U_[i], 1)):\n",
    "                maxAction = findMax(U_[i][j])\n",
    "                U_[i][j].utility = U_[i][j].reward + gamma*maxAction\n",
    "    return U_"
   ]
  },
  {
   "cell_type": "code",
   "execution_count": 53,
   "metadata": {},
   "outputs": [],
   "source": [
    "def printUtilties(U):\n",
    "    for i in range (0, len(U), 1):\n",
    "        print('{:6.3f}'.format(U[i][0].utility), end = \"\")\n",
    "        for j in range (1, len(U[i]), 1):\n",
    "            print(',{:6.3f}'.format(U[i][j].utility), end = \"\")\n",
    "        print()"
   ]
  },
  {
   "cell_type": "code",
   "execution_count": 54,
   "metadata": {},
   "outputs": [
    {
     "name": "stdout",
     "output_type": "stream",
     "text": [
      " 0.000, 0.000, 0.000, 1.000\n",
      " 0.000, 0.000, 0.000,-1.000\n",
      " 0.000, 0.000, 0.000, 0.000\n"
     ]
    }
   ],
   "source": [
    "U = returnUtility(env_file)\n",
    "printUtilties(U)"
   ]
  },
  {
   "cell_type": "code",
   "execution_count": null,
   "metadata": {},
   "outputs": [],
   "source": []
  },
  {
   "cell_type": "code",
   "execution_count": null,
   "metadata": {},
   "outputs": [],
   "source": []
  }
 ],
 "metadata": {
  "kernelspec": {
   "display_name": "Python 3",
   "language": "python",
   "name": "python3"
  },
  "language_info": {
   "codemirror_mode": {
    "name": "ipython",
    "version": 3
   },
   "file_extension": ".py",
   "mimetype": "text/x-python",
   "name": "python",
   "nbconvert_exporter": "python",
   "pygments_lexer": "ipython3",
   "version": "3.7.5"
  }
 },
 "nbformat": 4,
 "nbformat_minor": 2
}
