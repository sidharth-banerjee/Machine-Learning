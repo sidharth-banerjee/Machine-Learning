{
 "cells": [
  {
   "cell_type": "code",
   "execution_count": 466,
   "metadata": {},
   "outputs": [
    {
     "data": {
      "text/plain": [
       "'\\nName: Sidharth Banerjee\\nID  : 1001622703\\n'"
      ]
     },
     "execution_count": 466,
     "metadata": {},
     "output_type": "execute_result"
    }
   ],
   "source": [
    "'''\n",
    "Name: Sidharth Banerjee\n",
    "ID  : 1001622703\n",
    "'''"
   ]
  },
  {
   "cell_type": "code",
   "execution_count": 467,
   "metadata": {},
   "outputs": [],
   "source": [
    "import sys\n",
    "import copy\n",
    "import numpy as np\n",
    "import pandas as pd"
   ]
  },
  {
   "cell_type": "code",
   "execution_count": 468,
   "metadata": {},
   "outputs": [],
   "source": [
    "# command line arguments\n",
    "env_file = 'environment2.txt'\n",
    "nt_reward = -0.04\n",
    "gamma = 0.9\n",
    "K = 20"
   ]
  },
  {
   "cell_type": "code",
   "execution_count": 469,
   "metadata": {},
   "outputs": [],
   "source": [
    "class State:\n",
    "    def __init__(self, utility, accessible, reward, terminal):\n",
    "        self.utility = utility\n",
    "        self.accessible = accessible\n",
    "        self.reward = reward\n",
    "        self.terminal = terminal"
   ]
  },
  {
   "cell_type": "code",
   "execution_count": 470,
   "metadata": {},
   "outputs": [],
   "source": [
    "def returnUtility(file):\n",
    "    df = pd.read_csv(file, header=None)\n",
    "    Table = []\n",
    "    \n",
    "    temp0 = []\n",
    "    for j in range (0, len(df.columns)+2, 1):\n",
    "        temp0.append(State(0, False, 0, False))\n",
    "    Table.append(temp0)\n",
    "    \n",
    "    for i in range (0, len(df), 1):\n",
    "        temp1 = []\n",
    "        temp1.append(State(0, False, 0, 0))\n",
    "        for j in range (0, len(df.columns), 1):\n",
    "            if df.iloc[i][j] == 'X':\n",
    "                temp1.append(State(0, False, 0, False))\n",
    "            elif df.iloc[i][j] == '.':\n",
    "                temp1.append(State(0, True, nt_reward, False))\n",
    "            else:\n",
    "                temp1.append(State(0, True, float(df.iloc[i][j]), True))\n",
    "                \n",
    "        temp1.append(State(0, False, 0, False))\n",
    "        Table.append(temp1)\n",
    "      \n",
    "    Table.append(temp0)\n",
    "    return Table"
   ]
  },
  {
   "cell_type": "code",
   "execution_count": 471,
   "metadata": {},
   "outputs": [],
   "source": [
    "def action_up(U, i, j):\n",
    "    UP = 0.0\n",
    "    \n",
    "    if U[i-1][j].accessible:\n",
    "        UP += 0.8*U[i-1][j].utility\n",
    "    if not(U[i-1][j].accessible):\n",
    "        UP += 0.8*U[i][j].utility\n",
    "        \n",
    "    if U[i][j-1].accessible:\n",
    "        UP += 0.1*U[i][j-1].utility\n",
    "    if not(U[i][j-1].accessible):\n",
    "        UP += 0.1*U[i][j].utility\n",
    "            \n",
    "    if U[i][j+1].accessible:\n",
    "        UP += 0.1*U[i][j+1].utility\n",
    "    if not(U[i][j+1].accessible):\n",
    "        UP += 0.1*U[i][j].utility\n",
    "    \n",
    "    return UP"
   ]
  },
  {
   "cell_type": "code",
   "execution_count": 472,
   "metadata": {},
   "outputs": [],
   "source": [
    "def action_down(U, i, j):\n",
    "    DOWN = 0.0\n",
    "    \n",
    "    if U[i+1][j].accessible:\n",
    "        DOWN += 0.8*U[i+1][j].utility\n",
    "    if not(U[i+1][j].accessible):\n",
    "        DOWN += 0.8*U[i][j].utility\n",
    "        \n",
    "    if U[i][j-1].accessible:\n",
    "        DOWN += 0.1*U[i][j-1].utility\n",
    "    if not(U[i][j-1].accessible):\n",
    "        DOWN += 0.1*U[i][j].utility\n",
    "            \n",
    "    if U[i][j+1].accessible:\n",
    "        DOWN += 0.1*U[i][j+1].utility\n",
    "    if not(U[i][j+1].accessible):\n",
    "        DOWN += 0.1*U[i][j].utility\n",
    "    \n",
    "    return DOWN"
   ]
  },
  {
   "cell_type": "code",
   "execution_count": 473,
   "metadata": {},
   "outputs": [],
   "source": [
    "def action_left(U, i, j):\n",
    "    LEFT = 0.0\n",
    "    \n",
    "    if U[i][j-1].accessible:\n",
    "        LEFT += 0.8*U[i][j-1].utility\n",
    "    if not(U[i][j-1].accessible):\n",
    "        LEFT += 0.8*U[i][j].utility\n",
    "        \n",
    "    if U[i-1][j].accessible:\n",
    "        LEFT += 0.1*U[i-1][j].utility\n",
    "    if not(U[i-1][j].accessible):\n",
    "        LEFT += 0.1*U[i][j].utility\n",
    "            \n",
    "    if U[i+1][j].accessible:\n",
    "        LEFT += 0.1*U[i+1][j].utility\n",
    "    if not(U[i+1][j].accessible):\n",
    "        LEFT += 0.1*U[i][j].utility\n",
    "    \n",
    "    return LEFT"
   ]
  },
  {
   "cell_type": "code",
   "execution_count": 474,
   "metadata": {},
   "outputs": [],
   "source": [
    "def action_right(U, i, j):\n",
    "    RIGHT = 0.0\n",
    "    \n",
    "    if U[i][j+1].accessible:\n",
    "        RIGHT += 0.8*U[i][j+1].utility\n",
    "    if not(U[i][j+1].accessible):\n",
    "        RIGHT += 0.8*U[i][j].utility\n",
    "        \n",
    "    if U[i-1][j].accessible:\n",
    "        RIGHT += 0.1*U[i-1][j].utility\n",
    "    if not(U[i-1][j].accessible):\n",
    "        RIGHT += 0.1*U[i][j].utility\n",
    "            \n",
    "    if U[i+1][j].accessible:\n",
    "        RIGHT += 0.1*U[i+1][j].utility\n",
    "    if not(U[i+1][j].accessible):\n",
    "        RIGHT += 0.1*U[i][j].utility\n",
    "    \n",
    "    return RIGHT"
   ]
  },
  {
   "cell_type": "code",
   "execution_count": 475,
   "metadata": {},
   "outputs": [],
   "source": [
    "def findMax(U, i, j):\n",
    "    Utilities = []\n",
    "    \n",
    "    Utilities.append(action_up(U, i, j))\n",
    "    Utilities.append(action_down(U, i, j))\n",
    "    Utilities.append(action_left(U, i, j))\n",
    "    Utilities.append(action_right(U, i, j))\n",
    "\n",
    "    return np.amax(np.array(Utilities))"
   ]
  },
  {
   "cell_type": "code",
   "execution_count": 476,
   "metadata": {},
   "outputs": [],
   "source": [
    "def ValueIteration():\n",
    "    U_ = returnUtility(env_file)\n",
    "    \n",
    "    for i in range (0, 13, 1):\n",
    "        U = copy.deepcopy(U_)\n",
    "        \n",
    "        for i in range (1, len(U_)-1, 1):\n",
    "            for j in range (1, len(U_[i])-1, 1):\n",
    "                if U_[i][j].terminal or not(U_[i][j].accessible):\n",
    "                    U_[i][j].utility = U_[i][j].reward\n",
    "                else:\n",
    "                    maxAction = findMax(U, i, j)\n",
    "                    U_[i][j].utility = U_[i][j].reward + gamma*maxAction\n",
    "    return U_"
   ]
  },
  {
   "cell_type": "code",
   "execution_count": 477,
   "metadata": {},
   "outputs": [],
   "source": [
    "def printUtilties(U):\n",
    "    for i in range (1, len(U)-1, 1):\n",
    "        print('{:6.3f}'.format(U[i][1].utility), end = \"\")\n",
    "        for j in range (2, len(U[i])-1, 1):\n",
    "            print(',{:6.3f}'.format(U[i][j].utility), end = \"\")\n",
    "        print()"
   ]
  },
  {
   "cell_type": "code",
   "execution_count": 478,
   "metadata": {},
   "outputs": [
    {
     "name": "stdout",
     "output_type": "stream",
     "text": [
      " 0.509, 0.650, 0.795, 1.000\n",
      " 0.398, 0.000, 0.486,-1.000\n",
      " 0.295, 0.253, 0.345, 0.130\n"
     ]
    }
   ],
   "source": [
    "U = ValueIteration()\n",
    "printUtilties(U)"
   ]
  },
  {
   "cell_type": "code",
   "execution_count": null,
   "metadata": {},
   "outputs": [],
   "source": []
  }
 ],
 "metadata": {
  "kernelspec": {
   "display_name": "Python 3",
   "language": "python",
   "name": "python3"
  },
  "language_info": {
   "codemirror_mode": {
    "name": "ipython",
    "version": 3
   },
   "file_extension": ".py",
   "mimetype": "text/x-python",
   "name": "python",
   "nbconvert_exporter": "python",
   "pygments_lexer": "ipython3",
   "version": "3.7.5"
  }
 },
 "nbformat": 4,
 "nbformat_minor": 2
}
